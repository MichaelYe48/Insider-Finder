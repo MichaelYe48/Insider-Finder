{
 "cells": [
  {
   "cell_type": "code",
   "execution_count": 1,
   "id": "1d849cfc-b1d0-48fb-a03a-801f769a780e",
   "metadata": {},
   "outputs": [],
   "source": [
    "import pandas as pd\n",
    "import requests\n",
    "from bs4 import BeautifulSoup\n",
    "from cleanco import basename"
   ]
  },
  {
   "cell_type": "code",
   "execution_count": 2,
   "id": "f95ee33b-1dd6-4167-9977-090d8362669c",
   "metadata": {},
   "outputs": [],
   "source": [
    "headers = {'User-Agent': \"mhye@ucsd.edu\"}"
   ]
  },
  {
   "cell_type": "code",
   "execution_count": 3,
   "id": "55ef323c-8ab9-4975-a44a-56a4b58c46f8",
   "metadata": {},
   "outputs": [],
   "source": [
    "def get_cik(ticker, headers=headers):\n",
    "    ticker = ticker.upper().replace(\".\", \"-\")\n",
    "    ticker_json = requests.get(\n",
    "        \"https://www.sec.gov/files/company_tickers.json\", headers=headers\n",
    "    ).json()\n",
    "\n",
    "    for company in ticker_json.values():\n",
    "        if company[\"ticker\"] == ticker:\n",
    "            cik = str(company[\"cik_str\"]).zfill(10)\n",
    "            return cik\n",
    "    raise ValueError(f\"Ticker {ticker} not found in SEC database\")\n",
    "\n",
    "def filing_finder(cik, headers=headers):\n",
    "    headers = headers\n",
    "    url = f\"https://data.sec.gov/submissions/CIK{cik}.json\"\n",
    "    company_json = requests.get(url, headers=headers).json()\n",
    "    company_df = pd.DataFrame(company_json[\"filings\"][\"recent\"])\n",
    "    df = company_df[company_df[\"form\"] == \"4\"]\n",
    "    return df\n",
    "\n",
    "def roster_finder(ticker):\n",
    "    cik = get_cik(ticker)\n",
    "    filings = filing_finder(cik, headers)\n",
    "    insider_names = set()\n",
    "    \n",
    "    # Loop through each filing in the DataFrame\n",
    "    for _, row in filings.iterrows():\n",
    "        # if len(insider_names) >= 15:\n",
    "        #     break\n",
    "        accession_number = row['accessionNumber'].replace(\"-\", \"\")\n",
    "        url = f\"https://www.sec.gov/Archives/edgar/data/{cik}/{accession_number}/{row['primaryDocument']}\"\n",
    "        \n",
    "        # Request the HTML form\n",
    "        response = requests.get(url, headers=headers)\n",
    "        if response.status_code == 200:\n",
    "            soup = BeautifulSoup(response.content, 'html.parser')\n",
    "            name = soup.find('a')\n",
    "            insider_names.add(name.text.lower())\n",
    "    \n",
    "    return(insider_names)"
   ]
  },
  {
   "cell_type": "code",
   "execution_count": 4,
   "id": "a5116450-a473-48bc-8dae-92a9aac9e232",
   "metadata": {},
   "outputs": [
    {
     "data": {
      "text/plain": [
       "{'arroyo f. thaddeus',\n",
       " 'at&t inc.',\n",
       " 'desroches pascal',\n",
       " 'di piazza samuel a jr.',\n",
       " 'dial debra l.',\n",
       " 'fisher richard w',\n",
       " 'ford scott t',\n",
       " 'gillespie edward w',\n",
       " 'huntley david s.',\n",
       " 'hutchins glenn h',\n",
       " 'kennard william e',\n",
       " 'kilar jason',\n",
       " 'lee debra l',\n",
       " 'lee lori m',\n",
       " 'legg jeremy alan',\n",
       " 'luczo stephen j',\n",
       " 'mayer marissa a',\n",
       " 'mcatee david r ii',\n",
       " 'mccallister michael b',\n",
       " 'mcelfresh jeffery s.',\n",
       " 'mooney beth e',\n",
       " 'rose matthew k',\n",
       " 'sabrina sanders s',\n",
       " 'santone angela',\n",
       " 'smith kenny kellyn',\n",
       " 'stankey john t',\n",
       " 'stephens john joseph',\n",
       " 'stephenson randall l',\n",
       " 'taylor cindy b',\n",
       " 'ubinas luis a',\n",
       " 'yang geoffrey y'}"
      ]
     },
     "execution_count": 4,
     "metadata": {},
     "output_type": "execute_result"
    }
   ],
   "source": [
    "roster_finder('T')"
   ]
  },
  {
   "cell_type": "code",
   "execution_count": 5,
   "id": "a9dda06f-f1de-4ef8-a7c8-1b091a02ddd5",
   "metadata": {},
   "outputs": [
    {
     "data": {
      "text/plain": [
       "{'ahuja deepak',\n",
       " 'baglino andrew d',\n",
       " 'branderiz eric',\n",
       " 'buss brad w',\n",
       " 'denholm robyn m',\n",
       " 'ehrenpreis ira matthew',\n",
       " 'ellison lawrence joseph',\n",
       " 'field john douglas',\n",
       " 'gracias antonio j.',\n",
       " 'guillen jerome m',\n",
       " 'jurvetson stephen t',\n",
       " 'kirkhorn zachary',\n",
       " 'mcneill jon',\n",
       " 'mizuno hiromichi',\n",
       " 'murdoch james r',\n",
       " 'musk elon',\n",
       " 'musk kimbal',\n",
       " 'rice linda johnson',\n",
       " 'straubel jeffrey b',\n",
       " 'taneja vaibhav',\n",
       " 'wilson-thompson kathleen',\n",
       " 'zhu xiaotong'}"
      ]
     },
     "execution_count": 5,
     "metadata": {},
     "output_type": "execute_result"
    }
   ],
   "source": [
    "roster_finder('TSLA')"
   ]
  }
 ],
 "metadata": {
  "kernelspec": {
   "display_name": "Python 3 (ipykernel)",
   "language": "python",
   "name": "python3"
  },
  "language_info": {
   "codemirror_mode": {
    "name": "ipython",
    "version": 3
   },
   "file_extension": ".py",
   "mimetype": "text/x-python",
   "name": "python",
   "nbconvert_exporter": "python",
   "pygments_lexer": "ipython3",
   "version": "3.10.7"
  }
 },
 "nbformat": 4,
 "nbformat_minor": 5
}
